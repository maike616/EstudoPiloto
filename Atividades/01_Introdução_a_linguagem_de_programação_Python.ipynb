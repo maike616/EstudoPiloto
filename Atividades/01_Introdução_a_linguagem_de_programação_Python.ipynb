{
  "nbformat": 4,
  "nbformat_minor": 0,
  "metadata": {
    "colab": {
      "provenance": []
    },
    "kernelspec": {
      "name": "python3",
      "display_name": "Python 3"
    },
    "language_info": {
      "name": "python"
    }
  },
  "cells": [
    {
      "cell_type": "code",
      "source": [
        "#@title\n",
        "!pip install Pillow weasyprint\n",
        "from weasyprint import HTML"
      ],
      "metadata": {
        "cellView": "form",
        "id": "49OFhO-EoN4a"
      },
      "execution_count": null,
      "outputs": []
    },
    {
      "cell_type": "code",
      "source": [
        "#@title\n",
        "from IPython.display import display, HTML\n",
        "\n",
        "html_code = \"\"\"\n",
        "<html>\n",
        "<head>\n",
        "  <style>\n",
        "   @import url('https://fonts.googleapis.com/css2?family=Century+Gothic&display=swap');\n",
        "    .pink-text {\n",
        "      color: pink;\n",
        "    }\n",
        "    .centered-text {\n",
        "      text-align: center;\n",
        "    }\n",
        "    .justified-text {\n",
        "      text-align: justify;\n",
        "    }\n",
        "    .content-wrapper {\n",
        "      border: 2px solid black;\n",
        "      padding: 20px;\n",
        "      margin: 0 auto;\n",
        "      max-width: 700px;\n",
        "      font-family: \"Century Gothic\", Arial, sans-serif;\n",
        "       background-color: #F5F5F5;\n",
        "    }\n",
        "     p {\n",
        "      font-size: 18px;\n",
        "       color: #000000 ;\n",
        "    }\n",
        "    li {\n",
        "      font-size: 18px;\n",
        "       color: #000000 ;\n",
        "    }\n",
        "    ul {\n",
        "      font-size: 18px;\n",
        "       color: #000000 ;\n",
        "    }\n",
        "    h1,h2{\n",
        "       color: #000000 ;\n",
        "    }\n",
        "  </style>\n",
        "</head>\n",
        "<body>\n",
        "  <div class=\"content-wrapper\">\n",
        "    <div class=\"centered-text\">\n",
        "      <h1>Introdução à linguagem de programação Python</h1>\n",
        "    </div>\n",
        "    <div class=\"justified-text\">\n",
        "      <h2>Resumo:</h2>\n",
        "      <p>Esta é uma atividade de aprendizagem orientada a processos (POGIL) que deverá ocorrer em equipes com o auxílio de um facilitador. Você e sua equipe deverão examinar imagens, gráficos, trechos de códigos ou textos para então passar por um conjunto de perguntas que irão guiá-los por um ciclo de exploração, criação de conceitos e aplicação.</p>\n",
        "      <p>Ao final dessa atividade, os estudantes deverão ser capazes de:</p>\n",
        "      <h2>Conteúdo:</h2>\n",
        "      <ul>\n",
        "        <li>Explicar como exibir dados em Python</li>\n",
        "        <li>Explicar como criar comentários em Python</li>\n",
        "        <li>Determinar a diferença entre string e números</li>\n",
        "      </ul>\n",
        "      <h2>Habilidades de Processo:</h2>\n",
        "      <ul>\n",
        "        <li>Empatia</li>\n",
        "        <li>Trabalho em equipe</li>\n",
        "        <li>Pensamento crítico</li>\n",
        "      </ul>\n",
        "    </div>\n",
        "  </div>\n",
        "</body>\n",
        "</html>\n",
        "\"\"\"\n",
        "\n",
        "display(HTML(html_code))\n"
      ],
      "metadata": {
        "colab": {
          "base_uri": "https://localhost:8080/",
          "height": 542
        },
        "cellView": "form",
        "id": "k4Ivu5fEqWOD",
        "outputId": "00803197-e2c1-4d31-c42f-218d989e61d8"
      },
      "execution_count": null,
      "outputs": [
        {
          "output_type": "display_data",
          "data": {
            "text/plain": [
              "<IPython.core.display.HTML object>"
            ],
            "text/html": [
              "\n",
              "<html>\n",
              "<head>\n",
              "  <style>\n",
              "   @import url('https://fonts.googleapis.com/css2?family=Century+Gothic&display=swap');\n",
              "    .pink-text {\n",
              "      color: pink;\n",
              "    }\n",
              "    .centered-text {\n",
              "      text-align: center;\n",
              "    }\n",
              "    .justified-text {\n",
              "      text-align: justify;\n",
              "    }\n",
              "    .content-wrapper {\n",
              "      border: 2px solid black;\n",
              "      padding: 20px;\n",
              "      margin: 0 auto;\n",
              "      max-width: 700px;\n",
              "      font-family: \"Century Gothic\", Arial, sans-serif;\n",
              "       background-color: #F5F5F5;\n",
              "    }\n",
              "     p {\n",
              "      font-size: 18px;\n",
              "       color: #000000 ;\n",
              "    }\n",
              "    li {\n",
              "      font-size: 18px;\n",
              "       color: #000000 ;\n",
              "    }\n",
              "    ul {\n",
              "      font-size: 18px;\n",
              "       color: #000000 ;\n",
              "    }\n",
              "    h1,h2{\n",
              "       color: #000000 ;\n",
              "    }\n",
              "  </style>\n",
              "</head>\n",
              "<body>\n",
              "  <div class=\"content-wrapper\">\n",
              "    <div class=\"centered-text\">\n",
              "      <h1>Introdução à linguagem de programação Python</h1>\n",
              "    </div>\n",
              "    <div class=\"justified-text\">\n",
              "      <h2>Resumo:</h2>\n",
              "      <p>Esta é uma atividade de aprendizagem orientada a processos (POGIL) que deverá ocorrer em equipes com o auxílio de um facilitador. Você e sua equipe deverão examinar imagens, gráficos, trechos de códigos ou textos para então passar por um conjunto de perguntas que irão guiá-los por um ciclo de exploração, criação de conceitos e aplicação.</p>\n",
              "      <p>Ao final dessa atividade, os estudantes deverão ser capazes de:</p>\n",
              "      <h2>Conteúdo:</h2>\n",
              "      <ul>\n",
              "        <li>Explicar como exibir dados em Python</li>\n",
              "        <li>Explicar como criar comentários em Python</li>\n",
              "        <li>Determinar a diferença entre string e números</li>\n",
              "      </ul>\n",
              "      <h2>Habilidades de Processo:</h2>\n",
              "      <ul>\n",
              "        <li>Empatia</li>\n",
              "        <li>Trabalho em equipe</li>\n",
              "        <li>Pensamento crítico</li>\n",
              "      </ul>\n",
              "    </div>\n",
              "  </div>\n",
              "</body>\n",
              "</html>\n"
            ]
          },
          "metadata": {}
        }
      ]
    },
    {
      "cell_type": "code",
      "source": [
        "#@title\n",
        "from IPython.display import display, HTML\n",
        "\n",
        "html_code = \"\"\"\n",
        "<html>\n",
        "<head>\n",
        " <style>\n",
        "  p {\n",
        "      font-size: 18px;\n",
        "    }\n",
        "    body {\n",
        "      background-color: #F5F5F5;\n",
        "      color: #000000 ;\n",
        "    }\n",
        "     </style>\n",
        "</head>\n",
        "\n",
        "<body>\n",
        "<p>1. Execute o programa mostrado abaixo. O que ele faz? </p>\n",
        "</body>\n",
        "\n",
        "</html>\n",
        "\"\"\"\n",
        "\n",
        "display(HTML(html_code))"
      ],
      "metadata": {
        "colab": {
          "base_uri": "https://localhost:8080/",
          "height": 51
        },
        "cellView": "form",
        "id": "A6Ac5mZ-qmMy",
        "outputId": "1ff3e6e5-8004-4ed1-d6a0-0d52c0c1c095"
      },
      "execution_count": null,
      "outputs": [
        {
          "output_type": "display_data",
          "data": {
            "text/plain": [
              "<IPython.core.display.HTML object>"
            ],
            "text/html": [
              "\n",
              "<html>\n",
              "<head>\n",
              " <style>\n",
              "  p {\n",
              "      font-size: 18px;\n",
              "    }\n",
              "    body {\n",
              "      background-color: #F5F5F5;\n",
              "      color: #000000 ;\n",
              "    }\n",
              "     </style>\n",
              "</head>\n",
              "\n",
              "<body>\n",
              "<p>1. Execute o programa mostrado abaixo. O que ele faz? </p>\n",
              "</body>\n",
              "\n",
              "</html>\n"
            ]
          },
          "metadata": {}
        }
      ]
    },
    {
      "cell_type": "code",
      "source": [
        "print(\"Olá\")"
      ],
      "metadata": {
        "id": "B48js-_qrTlT"
      },
      "execution_count": null,
      "outputs": []
    },
    {
      "cell_type": "markdown",
      "source": [
        "Resposta ="
      ],
      "metadata": {
        "id": "RIsGXqf0uHOI"
      }
    },
    {
      "cell_type": "code",
      "source": [
        "#@title\n",
        "from IPython.display import display, HTML\n",
        "\n",
        "html_code = \"\"\"\n",
        "<html>\n",
        "<head>\n",
        " <style>\n",
        "  p,li,lu {\n",
        "      font-size: 18px;\n",
        "    }\n",
        "     body {\n",
        "         background-color: #F5F5F5;\n",
        "      color: #000000 ;\n",
        "    }\n",
        "     </style>\n",
        "</head>\n",
        "\n",
        "<body>\n",
        "<lu>2. Digite e execute os códigos a seguir:</lu>\n",
        "<li>Qual saída eles produzem?</li>\n",
        "<li>Indique se há algum problema. </li>\n",
        "</body>\n",
        "\n",
        "</html>\n",
        "\"\"\"\n",
        "\n",
        "display(HTML(html_code))"
      ],
      "metadata": {
        "colab": {
          "base_uri": "https://localhost:8080/",
          "height": 84
        },
        "cellView": "form",
        "id": "Nyl8sM03r21c",
        "outputId": "57b40d2e-a42b-4537-c879-c24eab850734"
      },
      "execution_count": null,
      "outputs": [
        {
          "output_type": "display_data",
          "data": {
            "text/plain": [
              "<IPython.core.display.HTML object>"
            ],
            "text/html": [
              "\n",
              "<html>\n",
              "<head>\n",
              " <style>\n",
              "  p,li,lu {\n",
              "      font-size: 18px;\n",
              "    }\n",
              "     body {\n",
              "         background-color: #F5F5F5;\n",
              "      color: #000000 ;\n",
              "    }\n",
              "     </style>\n",
              "</head>\n",
              "\n",
              "<body>\n",
              "<lu>2. Digite e execute os códigos a seguir:</lu> \n",
              "<li>Qual saída eles produzem?</li>\n",
              "<li>Indique se há algum problema. </li>\n",
              "</body>\n",
              "\n",
              "</html>\n"
            ]
          },
          "metadata": {}
        }
      ]
    },
    {
      "cell_type": "code",
      "source": [
        "print(\"Ola, meu nome e Marcos! \")"
      ],
      "metadata": {
        "id": "LsiZQ3wAsiAX"
      },
      "execution_count": null,
      "outputs": []
    },
    {
      "cell_type": "markdown",
      "source": [
        "Resposta ="
      ],
      "metadata": {
        "id": "VKJEsbLss5Jv"
      }
    },
    {
      "cell_type": "code",
      "source": [
        "print(\"Idade: \", 20)"
      ],
      "metadata": {
        "id": "gxq5C-7isxlm"
      },
      "execution_count": null,
      "outputs": []
    },
    {
      "cell_type": "markdown",
      "source": [
        "Resposta ="
      ],
      "metadata": {
        "id": "GvZBQxLZs7YA"
      }
    },
    {
      "cell_type": "code",
      "source": [
        "print(\"Ola.\\nMeu nome e Marcos! \")"
      ],
      "metadata": {
        "id": "gnVAkkOSsxVR"
      },
      "execution_count": null,
      "outputs": []
    },
    {
      "cell_type": "markdown",
      "source": [
        "Resposta ="
      ],
      "metadata": {
        "id": "SBRjJ3f_s8fh"
      }
    },
    {
      "cell_type": "code",
      "source": [
        "#@title\n",
        "from IPython.display import display, HTML\n",
        "\n",
        "html_code = \"\"\"\n",
        "<html>\n",
        "<head>\n",
        " <style>\n",
        "  p {\n",
        "      font-size: 18px;\n",
        "    }\n",
        "     body {\n",
        "         background-color: #F5F5F5;\n",
        "      color: #000000 ;\n",
        "      }\n",
        "     </style>\n",
        "</head>\n",
        "\n",
        "<body>\n",
        "<p>3. Por que os códigos da <strong>questão 2</strong> têm formatos diferentes? Explique a causa dessa diferença:</p>\n",
        "</body>\n",
        "\n",
        "</html>\n",
        "\"\"\"\n",
        "\n",
        "display(HTML(html_code))"
      ],
      "metadata": {
        "colab": {
          "base_uri": "https://localhost:8080/",
          "height": 51
        },
        "cellView": "form",
        "id": "_jeABYt_tpmO",
        "outputId": "2ef991e1-1f64-41ba-d067-659e0ea83cc5"
      },
      "execution_count": null,
      "outputs": [
        {
          "output_type": "display_data",
          "data": {
            "text/plain": [
              "<IPython.core.display.HTML object>"
            ],
            "text/html": [
              "\n",
              "<html>\n",
              "<head>\n",
              " <style>\n",
              "  p {\n",
              "      font-size: 18px;\n",
              "    }\n",
              "     body {\n",
              "         background-color: #F5F5F5;\n",
              "      color: #000000 ;\n",
              "     </style>\n",
              "</head>\n",
              "\n",
              "<body>\n",
              "<p>3. Por que os códigos da <strong>questão 2</strong> têm formatos diferentes? Explique a causa dessa diferença:</p>\n",
              "</body>\n",
              "\n",
              "</html>\n"
            ]
          },
          "metadata": {}
        }
      ]
    },
    {
      "cell_type": "markdown",
      "source": [
        "Resposta ="
      ],
      "metadata": {
        "id": "VGLgCJLxvcra"
      }
    },
    {
      "cell_type": "code",
      "source": [
        "\n",
        "#@title\n",
        "from IPython.display import display, HTML\n",
        "\n",
        "html_code = \"\"\"\n",
        "<html>\n",
        "<head>\n",
        " <style>\n",
        "  p,li,lu {\n",
        "      font-size: 18px;\n",
        "    }\n",
        "    body{\n",
        "      margin: 0;\n",
        "     }\n",
        "      body {\n",
        "        background-color: #F5F5F5;\n",
        "      color: #000000 ;\n",
        "    }\n",
        "     </style>\n",
        "</head>\n",
        "\n",
        "<body>\n",
        "<p>4. Execute as intruções em Python  e descreva os resultados. </p>\n",
        "\n",
        "</body>\n",
        "\n",
        "</html>\n",
        "\"\"\"\n",
        "\n",
        "display(HTML(html_code))"
      ],
      "metadata": {
        "colab": {
          "base_uri": "https://localhost:8080/",
          "height": 51
        },
        "cellView": "form",
        "id": "_wYtzAHKveGj",
        "outputId": "2032f8d8-6e3e-4452-d65b-8abaf06e1fac"
      },
      "execution_count": null,
      "outputs": [
        {
          "output_type": "display_data",
          "data": {
            "text/plain": [
              "<IPython.core.display.HTML object>"
            ],
            "text/html": [
              "\n",
              "<html>\n",
              "<head>\n",
              " <style>\n",
              "  p,li,lu {\n",
              "      font-size: 18px;\n",
              "    }\n",
              "    body{\n",
              "      margin: 0;\n",
              "     }\n",
              "      body {\n",
              "        background-color: #F5F5F5;\n",
              "      color: #000000 ;\n",
              "    }\n",
              "     </style>\n",
              "</head>\n",
              "\n",
              "<body>\n",
              "<p>4. Execute as intruções em Python  e descreva os resultados. </p>\n",
              "\n",
              "</body>\n",
              "\n",
              "</html>\n"
            ]
          },
          "metadata": {}
        }
      ]
    },
    {
      "cell_type": "code",
      "source": [
        "print(2 + 5)"
      ],
      "metadata": {
        "id": "tf0KsrkVwYmD"
      },
      "execution_count": null,
      "outputs": []
    },
    {
      "cell_type": "markdown",
      "source": [
        "Resposta ="
      ],
      "metadata": {
        "id": "2KdBfStkwy0U"
      }
    },
    {
      "cell_type": "code",
      "source": [
        "print(2 * 5)"
      ],
      "metadata": {
        "id": "WGLrhjNFwYdE"
      },
      "execution_count": null,
      "outputs": []
    },
    {
      "cell_type": "markdown",
      "source": [
        "Resposta ="
      ],
      "metadata": {
        "id": "x8wxhEAQw0Va"
      }
    },
    {
      "cell_type": "code",
      "source": [
        "print(\"2 + 5\")"
      ],
      "metadata": {
        "id": "-L9e78X2wYTx"
      },
      "execution_count": null,
      "outputs": []
    },
    {
      "cell_type": "markdown",
      "source": [
        "Resposta ="
      ],
      "metadata": {
        "id": "c2oEBHjtw1vQ"
      }
    },
    {
      "cell_type": "code",
      "source": [
        "print(\"Idade: \", 20)"
      ],
      "metadata": {
        "id": "QrRNi0PDwYMj"
      },
      "execution_count": null,
      "outputs": []
    },
    {
      "cell_type": "markdown",
      "source": [
        "Resposta ="
      ],
      "metadata": {
        "id": "ltESxBkcw4ge"
      }
    },
    {
      "cell_type": "code",
      "source": [
        "#@title\n",
        "from IPython.display import display, HTML\n",
        "\n",
        "html_code = \"\"\"\n",
        "<html>\n",
        "<head>\n",
        " <style>\n",
        "  p,li,lu {\n",
        "      font-size: 18px;\n",
        "    }\n",
        "      body {\n",
        "        background-color: #F5F5F5;\n",
        "      color: #000000 ;\n",
        "    }\n",
        "     </style>\n",
        "</head>\n",
        "\n",
        "<body>\n",
        "<p>5. Analise a saída produzida por cada instrução na questão anterior: </p>\n",
        "</body>\n",
        "\n",
        "</html>\n",
        "\"\"\"\n",
        "\n",
        "display(HTML(html_code))"
      ],
      "metadata": {
        "colab": {
          "base_uri": "https://localhost:8080/",
          "height": 51
        },
        "cellView": "form",
        "id": "ENzVAxf6wYEP",
        "outputId": "0911ab0d-2132-448f-8f49-19a39c3e5c6d"
      },
      "execution_count": null,
      "outputs": [
        {
          "output_type": "display_data",
          "data": {
            "text/plain": [
              "<IPython.core.display.HTML object>"
            ],
            "text/html": [
              "\n",
              "<html>\n",
              "<head>\n",
              " <style>\n",
              "  p,li,lu {\n",
              "      font-size: 18px;\n",
              "    }\n",
              "      body {\n",
              "        background-color: #F5F5F5;\n",
              "      color: #000000 ;\n",
              "    }\n",
              "     </style>\n",
              "</head>\n",
              "\n",
              "<body>\n",
              "<p>5. Analise a saída produzida por cada instrução na questão anterior: </p>\n",
              "</body>\n",
              "\n",
              "</html>\n"
            ]
          },
          "metadata": {}
        }
      ]
    },
    {
      "cell_type": "code",
      "source": [
        "#@title\n",
        "from IPython.display import display, HTML\n",
        "\n",
        "html_code = \"\"\"\n",
        "<html>\n",
        "<head>\n",
        " <style>\n",
        "  p,li,lu {\n",
        "      font-size: 18px;\n",
        "    }\n",
        "      body {\n",
        "        background-color: #F5F5F5;\n",
        "      color: #000000 ;\n",
        "    }\n",
        "     </style>\n",
        "</head>\n",
        "\n",
        "<body>\n",
        "<p>a. Qual a diferença na saída para as instruções  print(2 + 5) e print(\"2 + 5\") da questão 4? </p>\n",
        "</body>\n",
        "\n",
        "</html>\n",
        "\"\"\"\n",
        "\n",
        "display(HTML(html_code))"
      ],
      "metadata": {
        "colab": {
          "base_uri": "https://localhost:8080/",
          "height": 51
        },
        "cellView": "form",
        "id": "vzG0BzWMx0jl",
        "outputId": "c9deebd2-8232-47f9-9953-de1da400e5f7"
      },
      "execution_count": null,
      "outputs": [
        {
          "output_type": "display_data",
          "data": {
            "text/plain": [
              "<IPython.core.display.HTML object>"
            ],
            "text/html": [
              "\n",
              "<html>\n",
              "<head>\n",
              " <style>\n",
              "  p,li,lu {\n",
              "      font-size: 18px;\n",
              "    }\n",
              "      body {\n",
              "        background-color: #F5F5F5;\n",
              "      color: #000000 ;\n",
              "    }\n",
              "     </style>\n",
              "</head>\n",
              "\n",
              "<body>\n",
              "<p>a. Qual a diferença na saída para as instruções  print(2 + 5) e print(\"2 + 5\") da questão 4? </p>\n",
              "</body>\n",
              "\n",
              "</html>\n"
            ]
          },
          "metadata": {}
        }
      ]
    },
    {
      "cell_type": "markdown",
      "source": [
        "Resposta ="
      ],
      "metadata": {
        "id": "MjfRPTd0yfLU"
      }
    },
    {
      "cell_type": "code",
      "source": [
        "#@title\n",
        "from IPython.display import display, HTML\n",
        "\n",
        "html_code = \"\"\"\n",
        "<html>\n",
        "<head>\n",
        " <style>\n",
        "  p,li,lu {\n",
        "      font-size: 18px;\n",
        "    }\n",
        "     body {\n",
        "        background-color: #F5F5F5;\n",
        "      color: #000000 ;\n",
        "    }\n",
        "     </style>\n",
        "</head>\n",
        "\n",
        "<body>\n",
        "<p>b. Qual foi a causa dessa diferença?</p>\n",
        "</body>\n",
        "\n",
        "</html>\n",
        "\"\"\"\n",
        "\n",
        "display(HTML(html_code))"
      ],
      "metadata": {
        "colab": {
          "base_uri": "https://localhost:8080/",
          "height": 51
        },
        "cellView": "form",
        "id": "UmgZS2fIyxUA",
        "outputId": "d5c37fbd-2ca9-40eb-c4a8-e9595a81b15b"
      },
      "execution_count": null,
      "outputs": [
        {
          "output_type": "display_data",
          "data": {
            "text/plain": [
              "<IPython.core.display.HTML object>"
            ],
            "text/html": [
              "\n",
              "<html>\n",
              "<head>\n",
              " <style>\n",
              "  p,li,lu {\n",
              "      font-size: 18px;\n",
              "    }\n",
              "     body {\n",
              "        background-color: #F5F5F5;\n",
              "      color: #000000 ;\n",
              "    }\n",
              "     </style>\n",
              "</head>\n",
              "\n",
              "<body>\n",
              "<p>b. Qual foi a causa dessa diferença?</p>\n",
              "</body>\n",
              "\n",
              "</html>\n"
            ]
          },
          "metadata": {}
        }
      ]
    },
    {
      "cell_type": "markdown",
      "source": [
        "Resposta ="
      ],
      "metadata": {
        "id": "zum9o0qcy4T8"
      }
    },
    {
      "cell_type": "code",
      "source": [
        "#@title\n",
        "from IPython.display import display, HTML\n",
        "\n",
        "html_code = \"\"\"\n",
        "<html>\n",
        "<head>\n",
        " <style>\n",
        "  p,li,lu {\n",
        "      font-size: 18px;\n",
        "    }\n",
        "      body {\n",
        "         background-color: #F5F5F5;\n",
        "      color: #000000 ;\n",
        "    }\n",
        "     </style>\n",
        "</head>\n",
        "\n",
        "<body>\n",
        "<p>c. Qual das opções apresenta uma palavra na saída, em vez de uma operação matemática?</p>\n",
        "</body>\n",
        "\n",
        "</html>\n",
        "\"\"\"\n",
        "\n",
        "display(HTML(html_code))\n",
        "\n"
      ],
      "metadata": {
        "colab": {
          "base_uri": "https://localhost:8080/",
          "height": 51
        },
        "cellView": "form",
        "id": "aAWYC2r9y6kW",
        "outputId": "70e7c498-7ffb-4bf9-f2e8-296ae2b6eda5"
      },
      "execution_count": null,
      "outputs": [
        {
          "output_type": "display_data",
          "data": {
            "text/plain": [
              "<IPython.core.display.HTML object>"
            ],
            "text/html": [
              "\n",
              "<html>\n",
              "<head>\n",
              " <style>\n",
              "  p,li,lu {\n",
              "      font-size: 18px;\n",
              "    }\n",
              "      body {\n",
              "         background-color: #F5F5F5;\n",
              "      color: #000000 ;\n",
              "    }\n",
              "     </style>\n",
              "</head>\n",
              "\n",
              "<body>\n",
              "<p>c. Qual das opções apresenta uma palavra na saída, em vez de uma operação matemática?</p>\n",
              "</body>\n",
              "\n",
              "</html>\n"
            ]
          },
          "metadata": {}
        }
      ]
    },
    {
      "cell_type": "markdown",
      "source": [
        "Resposta ="
      ],
      "metadata": {
        "id": "XmZkt167zgJO"
      }
    },
    {
      "cell_type": "code",
      "source": [
        "#@title\n",
        "from IPython.display import display, HTML\n",
        "\n",
        "html_code = \"\"\"\n",
        "<html>\n",
        "<head>\n",
        " <style>\n",
        "  p,li,lu {\n",
        "      font-size: 18px;\n",
        "    }\n",
        "     body {\n",
        "        background-color: #F5F5F5;\n",
        "      color: #000000 ;\n",
        "    }\n",
        "     </style>\n",
        "</head>\n",
        "\n",
        "<body>\n",
        "<p>c. Qual das opções apresenta uma palavra na saída, em vez de uma operação matemática?</p>\n",
        "</body>\n",
        "\n",
        "</html>\n",
        "\"\"\"\n",
        "\n",
        "display(HTML(html_code))\n",
        "\n"
      ],
      "metadata": {
        "colab": {
          "base_uri": "https://localhost:8080/",
          "height": 51
        },
        "cellView": "form",
        "id": "sjRwGQ0Qze_w",
        "outputId": "c88c9318-4d97-4acd-f60f-4ce5c6be51e0"
      },
      "execution_count": null,
      "outputs": [
        {
          "output_type": "display_data",
          "data": {
            "text/plain": [
              "<IPython.core.display.HTML object>"
            ],
            "text/html": [
              "\n",
              "<html>\n",
              "<head>\n",
              " <style>\n",
              "  p,li,lu {\n",
              "      font-size: 18px;\n",
              "    }\n",
              "     body {\n",
              "        background-color: #F5F5F5;\n",
              "      color: #000000 ;\n",
              "    }\n",
              "     </style>\n",
              "</head>\n",
              "\n",
              "<body>\n",
              "<p>c. Qual das opções apresenta uma palavra na saída, em vez de uma operação matemática?</p>\n",
              "</body>\n",
              "\n",
              "</html>\n"
            ]
          },
          "metadata": {}
        }
      ]
    },
    {
      "cell_type": "markdown",
      "source": [
        "Resposta ="
      ],
      "metadata": {
        "id": "YGYK_tu-zlh-"
      }
    },
    {
      "cell_type": "code",
      "source": [
        "#@title\n",
        "from IPython.display import display, HTML\n",
        "\n",
        "html_code = \"\"\"\n",
        "<html>\n",
        "<head>\n",
        " <style>\n",
        "  p,li,lu {\n",
        "      font-size: 18px;\n",
        "    }\n",
        "   body {\n",
        "       background-color: #F5F5F5;\n",
        "      color: #000000 ;\n",
        "    }\n",
        "     </style>\n",
        "</head>\n",
        "\n",
        "<body>\n",
        "<p>d. Qual é a função da vírgula (,) na opção na última instrução da questão 4? Como isso afeta o espaçamento da saída?</p>\n",
        "</body>\n",
        "\n",
        "</html>\n",
        "\"\"\"\n",
        "\n",
        "display(HTML(html_code))\n",
        "\n"
      ],
      "metadata": {
        "colab": {
          "base_uri": "https://localhost:8080/",
          "height": 51
        },
        "cellView": "form",
        "id": "hZyTTOSUznao",
        "outputId": "862f6bf5-0b96-4df8-e9db-126e2a01bc6c"
      },
      "execution_count": null,
      "outputs": [
        {
          "output_type": "display_data",
          "data": {
            "text/plain": [
              "<IPython.core.display.HTML object>"
            ],
            "text/html": [
              "\n",
              "<html>\n",
              "<head>\n",
              " <style>\n",
              "  p,li,lu {\n",
              "      font-size: 18px;\n",
              "    }\n",
              "   body {\n",
              "       background-color: #F5F5F5;\n",
              "      color: #000000 ;\n",
              "    }\n",
              "     </style>\n",
              "</head>\n",
              "\n",
              "<body>\n",
              "<p>d. Qual é a função da vírgula (,) na opção na última instrução da questão 4? Como isso afeta o espaçamento da saída?</p>\n",
              "</body>\n",
              "\n",
              "</html>\n"
            ]
          },
          "metadata": {}
        }
      ]
    },
    {
      "cell_type": "markdown",
      "source": [
        "Resposta ="
      ],
      "metadata": {
        "id": "Uldw-R_D6EHF"
      }
    },
    {
      "cell_type": "code",
      "source": [
        "#@title\n",
        "from IPython.display import display, HTML\n",
        "\n",
        "html_code = \"\"\"\n",
        "<html>\n",
        "<head>\n",
        " <style>\n",
        "  p,li,lu {\n",
        "      font-size: 18px;\n",
        "    }\n",
        "      body {\n",
        "         background-color: #F5F5F5;\n",
        "      color: #000000 ;\n",
        "    }\n",
        "     </style>\n",
        "</head>\n",
        "\n",
        "<body>\n",
        "<p>6. Examine o próximo código e sua saída. O que fazem as três primeiras linhas do código? </p>\n",
        "</body>\n",
        "\n",
        "</html>\n",
        "\"\"\"\n",
        "\n",
        "display(HTML(html_code))"
      ],
      "metadata": {
        "colab": {
          "base_uri": "https://localhost:8080/",
          "height": 51
        },
        "cellView": "form",
        "id": "6MXTZItmzpQt",
        "outputId": "f992f96e-a1fa-45f1-c494-f230b165f11b"
      },
      "execution_count": null,
      "outputs": [
        {
          "output_type": "display_data",
          "data": {
            "text/plain": [
              "<IPython.core.display.HTML object>"
            ],
            "text/html": [
              "\n",
              "<html>\n",
              "<head>\n",
              " <style>\n",
              "  p,li,lu {\n",
              "      font-size: 18px;\n",
              "    }\n",
              "      body {\n",
              "         background-color: #F5F5F5;\n",
              "      color: #000000 ;\n",
              "    }\n",
              "     </style>\n",
              "</head>\n",
              "\n",
              "<body>\n",
              "<p>6. Examine o próximo código e sua saída. O que fazem as três primeiras linhas do código? </p>\n",
              "</body>\n",
              "\n",
              "</html>\n"
            ]
          },
          "metadata": {}
        }
      ]
    },
    {
      "cell_type": "markdown",
      "source": [
        "Resposta ="
      ],
      "metadata": {
        "id": "djQ7Cbj46F2Q"
      }
    },
    {
      "cell_type": "code",
      "source": [
        "#@title\n",
        "#@author: Marcos Augusto\n",
        "#@data: 20/04/2023\n",
        "#@description: Este programa imprime uma mensagem de boas vindas\n",
        "\n",
        "print(\"Ola, Marcos!\")\n",
        "print(\"Bem vindo a programacao em Python\")"
      ],
      "metadata": {
        "id": "SYwo6n900CR-"
      },
      "execution_count": null,
      "outputs": []
    },
    {
      "cell_type": "code",
      "source": [
        "#@title\n",
        "from IPython.display import display, HTML\n",
        "\n",
        "html_code = \"\"\"\n",
        "<html>\n",
        "<head>\n",
        " <style>\n",
        "  p,li,lu {\n",
        "      font-size: 18px;\n",
        "    }\n",
        "     body {\n",
        "         background-color: #F5F5F5;\n",
        "      color: #000000 ;\n",
        "    }\n",
        "     </style>\n",
        "</head>\n",
        "\n",
        "<body>\n",
        "<p>7. Escreva um programa em Python onde você deve imprimir na tela três frases: </p>\n",
        "</body>\n",
        "\n",
        "</html>\n",
        "\"\"\"\n",
        "\n",
        "display(HTML(html_code))\n",
        "\n"
      ],
      "metadata": {
        "colab": {
          "base_uri": "https://localhost:8080/",
          "height": 51
        },
        "id": "aRQL4PVV09nz",
        "outputId": "4df047fb-973f-4096-ba9a-1d1573b94233",
        "cellView": "form"
      },
      "execution_count": null,
      "outputs": [
        {
          "output_type": "display_data",
          "data": {
            "text/plain": [
              "<IPython.core.display.HTML object>"
            ],
            "text/html": [
              "\n",
              "<html>\n",
              "<head>\n",
              " <style>\n",
              "  p,li,lu {\n",
              "      font-size: 18px;\n",
              "    }\n",
              "     body {\n",
              "         background-color: #F5F5F5;\n",
              "      color: #000000 ;\n",
              "    }\n",
              "     </style>\n",
              "</head>\n",
              "\n",
              "<body>\n",
              "<p>7. Escreva um programa em Python onde você deve imprimir na tela três frases: </p>\n",
              "</body>\n",
              "\n",
              "</html>\n"
            ]
          },
          "metadata": {}
        }
      ]
    },
    {
      "cell_type": "code",
      "source": [],
      "metadata": {
        "id": "HUKg2Mi31nLY"
      },
      "execution_count": null,
      "outputs": []
    },
    {
      "cell_type": "code",
      "source": [
        "#@title\n",
        "from IPython.display import display, HTML\n",
        "\n",
        "html_code = \"\"\"\n",
        "<html>\n",
        "<head>\n",
        " <style>\n",
        "  p,li,lu {\n",
        "      font-size: 18px;\n",
        "    }\n",
        "    body {\n",
        "         background-color: #F5F5F5;\n",
        "      color: #000000 ;\n",
        "    }\n",
        "     </style>\n",
        "</head>\n",
        "\n",
        "<body>\n",
        "<p><p>8. Escreva um programa em Python que execute duas operações aritméticas diferentes e, ao final, mostre o resultado como saída. Certifique-se de incluir os cálculos necessários para as operações aritméticas no programa. </p>\n",
        "</body>\n",
        "\n",
        "</html>\n",
        "\"\"\"\n",
        "\n",
        "display(HTML(html_code))\n",
        "\n",
        "\n"
      ],
      "metadata": {
        "colab": {
          "base_uri": "https://localhost:8080/",
          "height": 74
        },
        "cellView": "form",
        "id": "bVxYSsf00_8W",
        "outputId": "771fab2a-cb15-4ab6-cb67-ccba18af6238"
      },
      "execution_count": null,
      "outputs": [
        {
          "output_type": "display_data",
          "data": {
            "text/plain": [
              "<IPython.core.display.HTML object>"
            ],
            "text/html": [
              "\n",
              "<html>\n",
              "<head>\n",
              " <style>\n",
              "  p,li,lu {\n",
              "      font-size: 18px;\n",
              "    }\n",
              "    body {\n",
              "         background-color: #F5F5F5;\n",
              "      color: #000000 ;\n",
              "    }\n",
              "     </style>\n",
              "</head>\n",
              "\n",
              "<body>\n",
              "<p><p>8. Escreva um programa em Python que execute duas operações aritméticas diferentes e, ao final, mostre o resultado como saída. Certifique-se de incluir os cálculos necessários para as operações aritméticas no programa. </p>\n",
              "</body>\n",
              "\n",
              "</html>\n"
            ]
          },
          "metadata": {}
        }
      ]
    },
    {
      "cell_type": "code",
      "source": [],
      "metadata": {
        "id": "9GupYESv1mIh"
      },
      "execution_count": null,
      "outputs": []
    }
  ]
}